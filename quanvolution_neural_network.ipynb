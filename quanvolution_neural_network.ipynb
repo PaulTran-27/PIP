{
 "cells": [
  {
   "cell_type": "code",
   "execution_count": 1,
   "metadata": {
    "colab": {
     "base_uri": "https://localhost:8080/"
    },
    "id": "Rz3x2_QCv9w1",
    "outputId": "9d9a5b9a-4af3-4cb5-d239-5d27e54b5709"
   },
   "outputs": [
    {
     "name": "stdout",
     "output_type": "stream",
     "text": [
      "Thu Dec 26 22:42:33 2024       \n",
      "+---------------------------------------------------------------------------------------+\n",
      "| NVIDIA-SMI 535.43.02              Driver Version: 535.98       CUDA Version: 12.2     |\n",
      "|-----------------------------------------+----------------------+----------------------+\n",
      "| GPU  Name                 Persistence-M | Bus-Id        Disp.A | Volatile Uncorr. ECC |\n",
      "| Fan  Temp   Perf          Pwr:Usage/Cap |         Memory-Usage | GPU-Util  Compute M. |\n",
      "|                                         |                      |               MIG M. |\n",
      "|=========================================+======================+======================|\n",
      "|   0  NVIDIA GeForce RTX 3070 ...    On  | 00000000:01:00.0 Off |                  N/A |\n",
      "| N/A   63C    P0              37W / 140W |    504MiB /  8192MiB |      0%      Default |\n",
      "|                                         |                      |                  N/A |\n",
      "+-----------------------------------------+----------------------+----------------------+\n",
      "                                                                                         \n",
      "+---------------------------------------------------------------------------------------+\n",
      "| Processes:                                                                            |\n",
      "|  GPU   GI   CI        PID   Type   Process name                            GPU Memory |\n",
      "|        ID   ID                                                             Usage      |\n",
      "|=======================================================================================|\n",
      "|  No running processes found                                                           |\n",
      "+---------------------------------------------------------------------------------------+\n"
     ]
    }
   ],
   "source": [
    "!nvidia-smi"
   ]
  },
  {
   "cell_type": "code",
   "execution_count": 2,
   "metadata": {
    "id": "AxGKV_rmaA1r"
   },
   "outputs": [
    {
     "name": "stderr",
     "output_type": "stream",
     "text": [
      "2024-12-26 22:42:36.162415: I tensorflow/core/util/port.cc:153] oneDNN custom operations are on. You may see slightly different numerical results due to floating-point round-off errors from different computation orders. To turn them off, set the environment variable `TF_ENABLE_ONEDNN_OPTS=0`.\n",
      "2024-12-26 22:42:36.324394: E external/local_xla/xla/stream_executor/cuda/cuda_fft.cc:477] Unable to register cuFFT factory: Attempting to register factory for plugin cuFFT when one has already been registered\n",
      "WARNING: All log messages before absl::InitializeLog() is called are written to STDERR\n",
      "E0000 00:00:1735227756.383122   10708 cuda_dnn.cc:8310] Unable to register cuDNN factory: Attempting to register factory for plugin cuDNN when one has already been registered\n",
      "E0000 00:00:1735227756.399694   10708 cuda_blas.cc:1418] Unable to register cuBLAS factory: Attempting to register factory for plugin cuBLAS when one has already been registered\n",
      "2024-12-26 22:42:36.537057: I tensorflow/core/platform/cpu_feature_guard.cc:210] This TensorFlow binary is optimized to use available CPU instructions in performance-critical operations.\n",
      "To enable the following instructions: AVX2 AVX_VNNI FMA, in other operations, rebuild TensorFlow with the appropriate compiler flags.\n"
     ]
    }
   ],
   "source": [
    "import pennylane as qml\n",
    "\n",
    "\n",
    "from pennylane import numpy as np\n",
    "from pennylane.templates import RandomLayers\n",
    "import tensorflow as tf\n",
    "from tensorflow import keras\n",
    "import matplotlib.pyplot as plt"
   ]
  },
  {
   "cell_type": "markdown",
   "metadata": {
    "id": "rOn2BmCeaA1s"
   },
   "source": [
    "# Setting of the main hyper-parameters of the model\n"
   ]
  },
  {
   "cell_type": "code",
   "execution_count": 3,
   "metadata": {
    "id": "QM9Kthb_aA1s"
   },
   "outputs": [],
   "source": [
    "n_epochs = 30   # Number of optimization epochs\n",
    "n_layers = 5    # Number of random layers\n",
    "n_train = 50    # Size of the train dataset\n",
    "n_test = 50     # Size of the test dataset\n",
    "\n",
    "SAVE_PATH = \"/content/\"  # Data saving folder\n",
    "PREPROCESS = True           # If False, skip quantum processing and load data from SAVE_PATH\n",
    "np.random.seed(0)           # Seed for NumPy random number generator\n",
    "tf.random.set_seed(0)       # Seed for TensorFlow random number generator"
   ]
  },
  {
   "cell_type": "markdown",
   "metadata": {
    "id": "RYzVqB7MaA1s"
   },
   "source": [
    "# Loading of the MNIST dataset\n"
   ]
  },
  {
   "cell_type": "code",
   "execution_count": 4,
   "metadata": {
    "id": "DV2aff2CaA1s"
   },
   "outputs": [],
   "source": [
    "mnist_dataset = keras.datasets.mnist\n",
    "(train_images, train_labels), (test_images, test_labels) = mnist_dataset.load_data()\n",
    "\n",
    "# Reduce dataset size\n",
    "train_images = train_images[:n_train]\n",
    "train_labels = train_labels[:n_train]\n",
    "test_images = test_images[:n_test]\n",
    "test_labels = test_labels[:n_test]\n",
    "\n",
    "# Normalize pixel values within 0 and 1\n",
    "train_images = train_images / 255\n",
    "test_images = test_images / 255\n",
    "\n",
    "# Add extra dimension for convolution channels\n",
    "train_images = np.array(train_images[..., tf.newaxis], requires_grad=False)\n",
    "test_images = np.array(test_images[..., tf.newaxis], requires_grad=False)"
   ]
  },
  {
   "cell_type": "markdown",
   "metadata": {
    "id": "JN6m4GKRaA1s"
   },
   "source": [
    "# Quantum circuit as a convolution kernel\n",
    "\n",
    "We follow the scheme described in the introduction and represented in\n",
    "the figure at the top of this demo.\n",
    "\n",
    "We initialize a PennyLane `default.qubit` device, simulating a system of\n",
    "$4$ qubits. The associated `qnode` represents the quantum circuit\n",
    "consisting of:\n",
    "\n",
    "1.  an embedding layer of local $R_y$ rotations (with angles scaled by a\n",
    "    factor of $\\pi$);\n",
    "2.  a random circuit of `n_layers`;\n",
    "3.  a final measurement in the computational basis, estimating $4$\n",
    "    expectation values.\n"
   ]
  },
  {
   "cell_type": "code",
   "execution_count": 7,
   "metadata": {
    "colab": {
     "base_uri": "https://localhost:8080/",
     "height": 1000
    },
    "id": "clOjblH7aA1s",
    "outputId": "2edd97c9-b482-4e7f-e343-06d59b986322"
   },
   "outputs": [
    {
     "name": "stdout",
     "output_type": "stream",
     "text": [
      "[[3.27025645 4.26552589 4.52786851 3.65693821]\n",
      " [3.37641558 4.76652254 0.66543712 2.9757192 ]\n",
      " [1.17076064 4.63019346 1.36062601 0.84960084]\n",
      " [2.03663802 0.94043493 1.39688648 2.42838189]\n",
      " [5.67119348 2.82711917 3.85199131 5.66962336]]\n"
     ]
    }
   ],
   "source": [
    "dev1 = qml.device(\"lightning.qubit\", wires = 4)\n",
    "dev2 = qml.device(\"default.qubit\", wires = 4)\n",
    "# Random circuit parameters\n",
    "rand_params = np.random.uniform(high=2 * np.pi, size=(n_layers, 4))\n",
    "\n",
    "print(rand_params)\n",
    "@qml.qnode(dev1)\n",
    "def circuit1(phi):\n",
    "    # Encoding of 4 classical input values\n",
    "    for j in range(4):\n",
    "        qml.RY(np.pi * phi[j], wires=j)\n",
    "\n",
    "    # Random quantum circuit\n",
    "    RandomLayers(rand_params, wires=list(range(4)), seed = None)\n",
    "\n",
    "\n",
    "    # Measurement producing 4 classical output values\n",
    "    return [qml.expval(qml.PauliZ(j)) for j in range(4)]\n",
    "\n",
    "\n",
    "# qml.draw_mpl(circuit1, level=None, decimal = 1)([1,2,3,4])\n",
    "# qml.draw_mpl(circuit1, level=None, decimal = 1)([2,3,4,5])"
   ]
  },
  {
   "cell_type": "markdown",
   "metadata": {
    "id": "ccEzIZMYaA1s"
   },
   "source": [
    "The next function defines the convolution scheme:\n",
    "\n",
    "1.  the image is divided into squares of $2 \\times 2$ pixels;\n",
    "2.  each square is processed by the quantum circuit;\n",
    "3.  the $4$ expectation values are mapped into $4$ different channels of\n",
    "    a single output pixel.\n",
    "\n",
    "::: note\n",
    "::: title\n",
    "Note\n",
    ":::\n",
    "\n",
    "This process halves the resolution of the input image. In the standard\n",
    "language of CNN, this would correspond to a convolution with a\n",
    "$2 \\times 2$ *kernel* and a *stride* equal to $2.$\n",
    ":::\n"
   ]
  },
  {
   "cell_type": "code",
   "execution_count": null,
   "metadata": {
    "colab": {
     "base_uri": "https://localhost:8080/",
     "height": 553
    },
    "id": "Tr1vbdXw2-tS",
    "outputId": "3f3b2195-2fb8-4060-f020-d08ffbd04ddb"
   },
   "outputs": [],
   "source": []
  },
  {
   "cell_type": "code",
   "execution_count": null,
   "metadata": {
    "id": "tYPANui-4jFo"
   },
   "outputs": [],
   "source": []
  },
  {
   "cell_type": "code",
   "execution_count": 12,
   "metadata": {
    "id": "o8wHpxJTaA1s"
   },
   "outputs": [],
   "source": [
    "def quanv(image):\n",
    "    \"\"\"Convolves the input image with many applications of the same quantum circuit.\"\"\"\n",
    "    out = np.zeros((14, 14, 4))\n",
    "\n",
    "    # Loop over the coordinates of the top-left pixel of 2X2 squares\n",
    "    for i in range(4):\n",
    "      cir = circuit1\n",
    "      for j in range(0, 28, 2):\n",
    "          for k in range(0, 28, 2):\n",
    "              # Process a squared 2x2 region of the image with a quantum circuit\n",
    "              q_results = cir(\n",
    "                  [\n",
    "                      image[j, k, 0],\n",
    "                      image[j, k + 1, 0],\n",
    "                      image[j + 1, k, 0],\n",
    "                      image[j + 1, k + 1, 0]\n",
    "                  ]\n",
    "              )\n",
    "              # Assign expectation values to different channels of the output pixel (j/2, k/2)\n",
    "\n",
    "                  # out[j // 2, k // 2, c] = q_results[c]\n",
    "              for c in range(4):\n",
    "                out[j // 2, k // 2, i] += q_results[c]\n",
    "              # out[j // 2, k // 2, i] /= 4\n",
    "    return out"
   ]
  },
  {
   "cell_type": "markdown",
   "metadata": {
    "id": "6cZggmpEaA1t"
   },
   "source": [
    "# Quantum pre-processing of the dataset\n",
    "\n",
    "Since we are not going to train the quantum convolution layer, it is\n",
    "more efficient to apply it as a \\\"pre-processing\\\" layer to all the\n",
    "images of our dataset. Later an entirely classical model will be\n",
    "directly trained and tested on the pre-processed dataset, avoiding\n",
    "unnecessary repetitions of quantum computations.\n",
    "\n",
    "The pre-processed images will be saved in the folder `SAVE_PATH`. Once\n",
    "saved, they can be directly loaded by setting `PREPROCESS = False`,\n",
    "otherwise the quantum convolution is evaluated at each run of the code.\n",
    "\n"
   ]
  },
  {
   "cell_type": "code",
   "execution_count": 9,
   "metadata": {},
   "outputs": [],
   "source": [
    "import os\n",
    "os.environ[\"OMP_NUM_THREADS\"] = \"16\"  # Replace 4 with your desired number of threads\n"
   ]
  },
  {
   "cell_type": "code",
   "execution_count": 13,
   "metadata": {
    "colab": {
     "base_uri": "https://localhost:8080/"
    },
    "id": "jaRybkXJaA1t",
    "outputId": "65a8734c-e048-4095-bbbf-f3225d6a3732"
   },
   "outputs": [
    {
     "name": "stdout",
     "output_type": "stream",
     "text": [
      "Quantum pre-processing of train images:\n",
      "50/50\n",
      "Quantum pre-processing of test images:\n",
      "50/50"
     ]
    }
   ],
   "source": [
    "if PREPROCESS == True:\n",
    "    q_train_images = []\n",
    "    print(\"Quantum pre-processing of train images:\")\n",
    "    for idx, img in enumerate(train_images):\n",
    "        print(\"\\r{}/{}\".format(idx + 1, n_train), end = '')\n",
    "        q_train_images.append(quanv(img))\n",
    "    q_train_images = np.asarray(q_train_images)\n",
    "\n",
    "    q_test_images = []\n",
    "    print(\"\\nQuantum pre-processing of test images:\")\n",
    "    for idx, img in enumerate(test_images):\n",
    "        print(\"\\r{}/{}\".format(idx + 1, n_test), end = '')\n",
    "        q_test_images.append(quanv(img))\n",
    "    q_test_images = np.asarray(q_test_images)\n",
    "\n",
    "    # # Save pre-processed images\n",
    "    # np.save(SAVE_PATH + \"q_train_images.npy\", q_train_images)\n",
    "    # np.save(SAVE_PATH + \"q_test_images.npy\", q_test_images)\n",
    "\n",
    "\n",
    "# # Load pre-processed images\n",
    "# q_train_images = np.load(SAVE_PATH + \"q_train_images.npy\")\n",
    "# q_test_images = np.load(SAVE_PATH + \"q_test_images.npy\")"
   ]
  },
  {
   "cell_type": "markdown",
   "metadata": {
    "id": "_8dPOWNLaA1t"
   },
   "source": [
    "Let us visualize the effect of the quantum convolution layer on a batch\n",
    "of samples:\n"
   ]
  },
  {
   "cell_type": "code",
   "execution_count": 14,
   "metadata": {
    "colab": {
     "base_uri": "https://localhost:8080/",
     "height": 1000
    },
    "id": "gY8_SQD-aA1t",
    "outputId": "4412bcc4-e21e-44e1-fe11-0ea1cc475c37"
   },
   "outputs": [
    {
     "data": {
      "image/png": "[encoded data removed]",
      "text/plain": [
       "<Figure size 1000x1000 with 20 Axes>"
      ]
     },
     "metadata": {},
     "output_type": "display_data"
    }
   ],
   "source": [
    "n_samples = 4\n",
    "n_channels = 4\n",
    "fig, axes = plt.subplots(1 + n_channels, n_samples, figsize=(10, 10))\n",
    "for k in range(n_samples):\n",
    "    axes[0, 0].set_ylabel(\"Input\")\n",
    "    if k != 0:\n",
    "        axes[0, k].yaxis.set_visible(False)\n",
    "    axes[0, k].imshow(train_images[k, :, :, 0], cmap=\"gray\")\n",
    "\n",
    "    # Plot all output channels\n",
    "    for c in range(n_channels):\n",
    "        axes[c + 1, 0].set_ylabel(\"Output [ch. {}]\".format(c))\n",
    "        if k != 0:\n",
    "            axes[c, k].yaxis.set_visible(False)\n",
    "        axes[c + 1, k].imshow(q_train_images[k, :, :, c], cmap=\"gray\")\n",
    "\n",
    "plt.tight_layout()\n",
    "plt.show()"
   ]
  },
  {
   "cell_type": "markdown",
   "metadata": {
    "id": "My4UOwV4aA1t"
   },
   "source": [
    "Below each input image, the $4$ output channels generated by the quantum\n",
    "convolution are visualized in gray scale.\n",
    "\n",
    "One can clearly notice the downsampling of the resolution and some local\n",
    "distortion introduced by the quantum kernel. On the other hand the\n",
    "global shape of the image is preserved, as expected for a convolution\n",
    "layer.\n"
   ]
  },
  {
   "cell_type": "markdown",
   "metadata": {
    "id": "Iwnmo__naA1t"
   },
   "source": [
    "# Hybrid quantum-classical model\n",
    "\n",
    "After the application of the quantum convolution layer we feed the\n",
    "resulting features into a classical neural network that will be trained\n",
    "to classify the $10$ different digits of the MNIST dataset.\n",
    "\n",
    "We use a very simple model: just a fully connected layer with 10 output\n",
    "nodes with a final *softmax* activation function.\n",
    "\n",
    "The model is compiled with a *stochastic-gradient-descent* optimizer,\n",
    "and a *cross-entropy* loss function.\n"
   ]
  },
  {
   "cell_type": "code",
   "execution_count": 49,
   "metadata": {
    "colab": {
     "base_uri": "https://localhost:8080/"
    },
    "id": "Z01nBYO-JuYy",
    "outputId": "02d3def3-dfac-4685-d80c-f9fdb84a2a71"
   },
   "outputs": [
    {
     "data": {
      "text/plain": [
       "(5, 28, 28, 1)"
      ]
     },
     "execution_count": 49,
     "metadata": {},
     "output_type": "execute_result"
    }
   ],
   "source": [
    "train_images.shape"
   ]
  },
  {
   "cell_type": "code",
   "execution_count": 50,
   "metadata": {
    "id": "O8x_WUKRaA1t"
   },
   "outputs": [],
   "source": [
    "from tensorflow import keras\n",
    "from tensorflow.keras import layers\n",
    "from tensorflow.keras.datasets import mnist\n",
    "\n",
    "def ClassicModel():\n",
    "    \"\"\"Initializes and returns a custom Keras CNN model ready to be trained on MNIST.\"\"\"\n",
    "    model = keras.models.Sequential([\n",
    "        # First Convolutional layer\n",
    "        layers.Conv2D(32, (3, 3), activation=\"relu\", input_shape=(28, 28, 1)),\n",
    "        layers.MaxPooling2D(pool_size=(2, 2)),\n",
    "\n",
    "        layers.Flatten(),\n",
    "        layers.Dense(64, activation=\"relu\"),\n",
    "        layers.Dense(10, activation=\"softmax\")\n",
    "    ])\n",
    "\n",
    "    model.compile(\n",
    "        optimizer=\"adam\",\n",
    "        loss=\"sparse_categorical_crossentropy\",\n",
    "        metrics=[\"accuracy\"]\n",
    "    )\n",
    "    return model\n",
    "\n",
    "def QuanvModel():\n",
    "    \"\"\"Initializes and returns a custom Keras CNN model ready to be trained on MNIST.\"\"\"\n",
    "    model = keras.models.Sequential([\n",
    "        # First Convolutional layer\n",
    "        layers.Conv2D(32, (3, 3), activation=\"relu\", input_shape=(14, 14, 4)),\n",
    "        layers.MaxPooling2D(pool_size=(2, 2)),\n",
    "\n",
    "        layers.Flatten(),\n",
    "        layers.Dense(64, activation=\"relu\"),\n",
    "        layers.Dense(10, activation=\"softmax\")\n",
    "    ])\n",
    "\n",
    "    model.compile(\n",
    "        optimizer=\"adam\",\n",
    "        loss=\"sparse_categorical_crossentropy\",\n",
    "        metrics=[\"accuracy\"]\n",
    "    )\n",
    "    return model\n",
    "\n"
   ]
  },
  {
   "cell_type": "markdown",
   "metadata": {
    "id": "GNsWe0LCaA1t"
   },
   "source": [
    "# Training\n",
    "\n",
    "We first initialize an instance of the model, then we train and validate\n",
    "it with the dataset that has been already pre-processed by a quantum\n",
    "convolution.\n"
   ]
  },
  {
   "cell_type": "code",
   "execution_count": 51,
   "metadata": {
    "colab": {
     "base_uri": "https://localhost:8080/"
    },
    "id": "rCG20prHaA1t",
    "outputId": "074e2282-a05c-4e2c-eaf9-7108bee608a1"
   },
   "outputs": [
    {
     "name": "stdout",
     "output_type": "stream",
     "text": [
      "Epoch 1/30\n"
     ]
    },
    {
     "name": "stderr",
     "output_type": "stream",
     "text": [
      "/usr/local/lib/python3.10/dist-packages/keras/src/layers/convolutional/base_conv.py:107: UserWarning: Do not pass an `input_shape`/`input_dim` argument to a layer. When using Sequential models, prefer using an `Input(shape)` object as the first layer in the model instead.\n",
      "  super().__init__(activity_regularizer=activity_regularizer, **kwargs)\n"
     ]
    },
    {
     "name": "stdout",
     "output_type": "stream",
     "text": [
      "2/2 - 3s - 1s/step - accuracy: 0.0000e+00 - loss: 2.8372 - val_accuracy: 0.0000e+00 - val_loss: 2.7045\n",
      "Epoch 2/30\n",
      "2/2 - 0s - 30ms/step - accuracy: 0.8000 - loss: 1.2979 - val_accuracy: 0.0000e+00 - val_loss: 3.3358\n",
      "Epoch 3/30\n",
      "2/2 - 0s - 24ms/step - accuracy: 0.6000 - loss: 0.9884 - val_accuracy: 0.0000e+00 - val_loss: 3.7362\n",
      "Epoch 4/30\n",
      "2/2 - 0s - 27ms/step - accuracy: 0.6000 - loss: 0.8411 - val_accuracy: 0.0000e+00 - val_loss: 3.6965\n",
      "Epoch 5/30\n",
      "2/2 - 0s - 36ms/step - accuracy: 1.0000 - loss: 0.5623 - val_accuracy: 0.0000e+00 - val_loss: 3.4626\n",
      "Epoch 6/30\n",
      "2/2 - 0s - 24ms/step - accuracy: 1.0000 - loss: 0.3246 - val_accuracy: 0.0000e+00 - val_loss: 3.2518\n",
      "Epoch 7/30\n",
      "2/2 - 0s - 29ms/step - accuracy: 1.0000 - loss: 0.1819 - val_accuracy: 0.2000 - val_loss: 3.1162\n",
      "Epoch 8/30\n",
      "2/2 - 0s - 34ms/step - accuracy: 1.0000 - loss: 0.0998 - val_accuracy: 0.4000 - val_loss: 3.0552\n",
      "Epoch 9/30\n",
      "2/2 - 0s - 22ms/step - accuracy: 1.0000 - loss: 0.0574 - val_accuracy: 0.4000 - val_loss: 3.0533\n",
      "Epoch 10/30\n",
      "2/2 - 0s - 23ms/step - accuracy: 1.0000 - loss: 0.0342 - val_accuracy: 0.4000 - val_loss: 3.0877\n",
      "Epoch 11/30\n",
      "2/2 - 0s - 124ms/step - accuracy: 1.0000 - loss: 0.0222 - val_accuracy: 0.4000 - val_loss: 3.1399\n",
      "Epoch 12/30\n",
      "2/2 - 0s - 64ms/step - accuracy: 1.0000 - loss: 0.0155 - val_accuracy: 0.4000 - val_loss: 3.2002\n",
      "Epoch 13/30\n",
      "2/2 - 0s - 30ms/step - accuracy: 1.0000 - loss: 0.0115 - val_accuracy: 0.4000 - val_loss: 3.2622\n",
      "Epoch 14/30\n",
      "2/2 - 0s - 67ms/step - accuracy: 1.0000 - loss: 0.0090 - val_accuracy: 0.4000 - val_loss: 3.3211\n",
      "Epoch 15/30\n",
      "2/2 - 0s - 21ms/step - accuracy: 1.0000 - loss: 0.0073 - val_accuracy: 0.4000 - val_loss: 3.3716\n",
      "Epoch 16/30\n",
      "2/2 - 0s - 29ms/step - accuracy: 1.0000 - loss: 0.0061 - val_accuracy: 0.4000 - val_loss: 3.4180\n",
      "Epoch 17/30\n",
      "2/2 - 0s - 21ms/step - accuracy: 1.0000 - loss: 0.0053 - val_accuracy: 0.4000 - val_loss: 3.4608\n",
      "Epoch 18/30\n",
      "2/2 - 0s - 28ms/step - accuracy: 1.0000 - loss: 0.0046 - val_accuracy: 0.4000 - val_loss: 3.4989\n",
      "Epoch 19/30\n",
      "2/2 - 0s - 22ms/step - accuracy: 1.0000 - loss: 0.0041 - val_accuracy: 0.4000 - val_loss: 3.5327\n",
      "Epoch 20/30\n",
      "2/2 - 0s - 22ms/step - accuracy: 1.0000 - loss: 0.0036 - val_accuracy: 0.4000 - val_loss: 3.5370\n",
      "Epoch 21/30\n",
      "2/2 - 0s - 29ms/step - accuracy: 1.0000 - loss: 0.0031 - val_accuracy: 0.4000 - val_loss: 3.5452\n",
      "Epoch 22/30\n",
      "2/2 - 0s - 28ms/step - accuracy: 1.0000 - loss: 0.0027 - val_accuracy: 0.6000 - val_loss: 3.5639\n",
      "Epoch 23/30\n",
      "2/2 - 0s - 22ms/step - accuracy: 1.0000 - loss: 0.0025 - val_accuracy: 0.6000 - val_loss: 3.5867\n",
      "Epoch 24/30\n",
      "2/2 - 0s - 36ms/step - accuracy: 1.0000 - loss: 0.0023 - val_accuracy: 0.6000 - val_loss: 3.6065\n",
      "Epoch 25/30\n",
      "2/2 - 0s - 21ms/step - accuracy: 1.0000 - loss: 0.0021 - val_accuracy: 0.6000 - val_loss: 3.6218\n",
      "Epoch 26/30\n",
      "2/2 - 0s - 21ms/step - accuracy: 1.0000 - loss: 0.0020 - val_accuracy: 0.6000 - val_loss: 3.6352\n",
      "Epoch 27/30\n",
      "2/2 - 0s - 40ms/step - accuracy: 1.0000 - loss: 0.0018 - val_accuracy: 0.6000 - val_loss: 3.6512\n",
      "Epoch 28/30\n",
      "2/2 - 0s - 35ms/step - accuracy: 1.0000 - loss: 0.0017 - val_accuracy: 0.6000 - val_loss: 3.6659\n",
      "Epoch 29/30\n",
      "2/2 - 0s - 57ms/step - accuracy: 1.0000 - loss: 0.0017 - val_accuracy: 0.6000 - val_loss: 3.6793\n",
      "Epoch 30/30\n",
      "2/2 - 0s - 30ms/step - accuracy: 1.0000 - loss: 0.0016 - val_accuracy: 0.6000 - val_loss: 3.6917\n"
     ]
    }
   ],
   "source": [
    "q_model = QuanvModel()\n",
    "\n",
    "q_history = q_model.fit(\n",
    "    q_train_images,\n",
    "    train_labels,\n",
    "    validation_data=(q_test_images, test_labels),\n",
    "    batch_size=4,\n",
    "    epochs=n_epochs,\n",
    "    verbose=2,\n",
    ")"
   ]
  },
  {
   "cell_type": "markdown",
   "metadata": {
    "id": "lFVunUOYaA1t"
   },
   "source": [
    "In order to compare the results achievable with and without the quantum\n",
    "convolution layer, we initialize also a \\\"classical\\\" instance of the\n",
    "model that will be directly trained and validated with the raw MNIST\n",
    "images (i.e., without quantum pre-processing).\n"
   ]
  },
  {
   "cell_type": "code",
   "execution_count": 45,
   "metadata": {
    "colab": {
     "base_uri": "https://localhost:8080/"
    },
    "id": "dtpqzry8aA1t",
    "outputId": "b5c7823b-5d99-4c73-a1a7-4de0f88e281a"
   },
   "outputs": [
    {
     "name": "stdout",
     "output_type": "stream",
     "text": [
      "Epoch 1/30\n",
      "2/2 - 5s - 2s/step - accuracy: 0.0000e+00 - loss: 2.3735 - val_accuracy: 0.4000 - val_loss: 2.1891\n",
      "Epoch 2/30\n",
      "2/2 - 0s - 23ms/step - accuracy: 1.0000 - loss: 1.8873 - val_accuracy: 0.4000 - val_loss: 2.1258\n",
      "Epoch 3/30\n",
      "2/2 - 0s - 21ms/step - accuracy: 1.0000 - loss: 1.5827 - val_accuracy: 0.4000 - val_loss: 2.0856\n",
      "Epoch 4/30\n",
      "2/2 - 0s - 21ms/step - accuracy: 1.0000 - loss: 1.2649 - val_accuracy: 0.4000 - val_loss: 2.0636\n",
      "Epoch 5/30\n",
      "2/2 - 0s - 21ms/step - accuracy: 1.0000 - loss: 0.9371 - val_accuracy: 0.4000 - val_loss: 2.0659\n",
      "Epoch 6/30\n",
      "2/2 - 0s - 22ms/step - accuracy: 1.0000 - loss: 0.6406 - val_accuracy: 0.4000 - val_loss: 2.0890\n",
      "Epoch 7/30\n",
      "2/2 - 0s - 37ms/step - accuracy: 1.0000 - loss: 0.4030 - val_accuracy: 0.4000 - val_loss: 2.1315\n",
      "Epoch 8/30\n",
      "2/2 - 0s - 22ms/step - accuracy: 1.0000 - loss: 0.2404 - val_accuracy: 0.4000 - val_loss: 2.1862\n",
      "Epoch 9/30\n",
      "2/2 - 0s - 21ms/step - accuracy: 1.0000 - loss: 0.1377 - val_accuracy: 0.4000 - val_loss: 2.2471\n",
      "Epoch 10/30\n",
      "2/2 - 0s - 21ms/step - accuracy: 1.0000 - loss: 0.0782 - val_accuracy: 0.4000 - val_loss: 2.3200\n",
      "Epoch 11/30\n",
      "2/2 - 0s - 29ms/step - accuracy: 1.0000 - loss: 0.0448 - val_accuracy: 0.4000 - val_loss: 2.3899\n",
      "Epoch 12/30\n",
      "2/2 - 0s - 22ms/step - accuracy: 1.0000 - loss: 0.0267 - val_accuracy: 0.4000 - val_loss: 2.4500\n",
      "Epoch 13/30\n",
      "2/2 - 0s - 23ms/step - accuracy: 1.0000 - loss: 0.0165 - val_accuracy: 0.4000 - val_loss: 2.5093\n",
      "Epoch 14/30\n",
      "2/2 - 0s - 29ms/step - accuracy: 1.0000 - loss: 0.0108 - val_accuracy: 0.4000 - val_loss: 2.5706\n",
      "Epoch 15/30\n",
      "2/2 - 0s - 31ms/step - accuracy: 1.0000 - loss: 0.0073 - val_accuracy: 0.4000 - val_loss: 2.6314\n",
      "Epoch 16/30\n",
      "2/2 - 0s - 60ms/step - accuracy: 1.0000 - loss: 0.0052 - val_accuracy: 0.4000 - val_loss: 2.6875\n",
      "Epoch 17/30\n",
      "2/2 - 0s - 21ms/step - accuracy: 1.0000 - loss: 0.0038 - val_accuracy: 0.4000 - val_loss: 2.7379\n",
      "Epoch 18/30\n",
      "2/2 - 0s - 32ms/step - accuracy: 1.0000 - loss: 0.0029 - val_accuracy: 0.4000 - val_loss: 2.7828\n",
      "Epoch 19/30\n",
      "2/2 - 0s - 22ms/step - accuracy: 1.0000 - loss: 0.0023 - val_accuracy: 0.4000 - val_loss: 2.8222\n",
      "Epoch 20/30\n",
      "2/2 - 0s - 27ms/step - accuracy: 1.0000 - loss: 0.0019 - val_accuracy: 0.4000 - val_loss: 2.8577\n",
      "Epoch 21/30\n",
      "2/2 - 0s - 29ms/step - accuracy: 1.0000 - loss: 0.0016 - val_accuracy: 0.4000 - val_loss: 2.8892\n",
      "Epoch 22/30\n",
      "2/2 - 0s - 30ms/step - accuracy: 1.0000 - loss: 0.0014 - val_accuracy: 0.6000 - val_loss: 2.9169\n",
      "Epoch 23/30\n",
      "2/2 - 0s - 27ms/step - accuracy: 1.0000 - loss: 0.0012 - val_accuracy: 0.6000 - val_loss: 2.9413\n",
      "Epoch 24/30\n",
      "2/2 - 0s - 34ms/step - accuracy: 1.0000 - loss: 0.0011 - val_accuracy: 0.6000 - val_loss: 2.9627\n",
      "Epoch 25/30\n",
      "2/2 - 0s - 65ms/step - accuracy: 1.0000 - loss: 9.8962e-04 - val_accuracy: 0.6000 - val_loss: 2.9814\n",
      "Epoch 26/30\n",
      "2/2 - 0s - 30ms/step - accuracy: 1.0000 - loss: 9.1211e-04 - val_accuracy: 0.6000 - val_loss: 2.9979\n",
      "Epoch 27/30\n",
      "2/2 - 0s - 22ms/step - accuracy: 1.0000 - loss: 8.4997e-04 - val_accuracy: 0.6000 - val_loss: 3.0123\n",
      "Epoch 28/30\n",
      "2/2 - 0s - 21ms/step - accuracy: 1.0000 - loss: 7.9933e-04 - val_accuracy: 0.6000 - val_loss: 3.0250\n",
      "Epoch 29/30\n",
      "2/2 - 0s - 21ms/step - accuracy: 1.0000 - loss: 7.5733e-04 - val_accuracy: 0.6000 - val_loss: 3.0363\n",
      "Epoch 30/30\n",
      "2/2 - 0s - 21ms/step - accuracy: 1.0000 - loss: 7.2216e-04 - val_accuracy: 0.6000 - val_loss: 3.0462\n"
     ]
    }
   ],
   "source": [
    "c_model = ClassicModel()\n",
    "\n",
    "c_history = c_model.fit(\n",
    "    train_images,\n",
    "    train_labels,\n",
    "    validation_data=(test_images, test_labels),\n",
    "    batch_size=4,\n",
    "    epochs=n_epochs,\n",
    "    verbose=2,\n",
    ")"
   ]
  },
  {
   "cell_type": "markdown",
   "metadata": {
    "id": "SpT3ghaIaA1t"
   },
   "source": [
    "# Results\n",
    "\n",
    "We can finally plot the test accuracy and the test loss with respect to\n",
    "the number of training epochs.\n"
   ]
  },
  {
   "cell_type": "code",
   "execution_count": 25,
   "metadata": {
    "colab": {
     "base_uri": "https://localhost:8080/",
     "height": 906
    },
    "id": "jHRpWQ_laA1t",
    "outputId": "ce45dc3d-fc3e-4874-b6dc-d07886ac0805"
   },
   "outputs": [
    {
     "data": {
      "image/png": "[encoded data removed]",
      "text/plain": [
       "<Figure size 600x900 with 2 Axes>"
      ]
     },
     "metadata": {},
     "output_type": "display_data"
    }
   ],
   "source": [
    "import matplotlib.pyplot as plt\n",
    "\n",
    "# plt.style.use(\"seaborn\")\n",
    "fig, (ax1, ax2) = plt.subplots(2, 1, figsize=(6, 9))\n",
    "\n",
    "ax1.plot(q_history.history[\"val_accuracy\"], \"-ob\", label=\"With quantum layer\")\n",
    "ax1.plot(c_history.history[\"val_accuracy\"], \"-og\", label=\"Without quantum layer\")\n",
    "ax1.set_ylabel(\"Accuracy\")\n",
    "ax1.set_ylim([0, 1])\n",
    "ax1.set_xlabel(\"Epoch\")\n",
    "ax1.legend()\n",
    "\n",
    "ax2.plot(q_history.history[\"val_loss\"], \"-ob\", label=\"With quantum layer\")\n",
    "ax2.plot(c_history.history[\"val_loss\"], \"-og\", label=\"Without quantum layer\")\n",
    "ax2.set_ylabel(\"Loss\")\n",
    "ax2.set_ylim(top=2.5)\n",
    "ax2.set_xlabel(\"Epoch\")\n",
    "ax2.legend()\n",
    "plt.tight_layout()\n",
    "plt.show()"
   ]
  },
  {
   "cell_type": "markdown",
   "metadata": {
    "id": "xrc2evb2aA1t"
   },
   "source": [
    "# References\n",
    "\n",
    "1.  Maxwell Henderson, Samriddhi Shakya, Shashindra Pradhan, Tristan\n",
    "    Cook. \\\"Quanvolutional Neural Networks: Powering Image Recognition\n",
    "    with Quantum Circuits.\\\"\n",
    "    [arXiv:1904.04767](https://arxiv.org/abs/1904.04767), 2019.\n",
    "\n",
    "# About the author\n"
   ]
  }
 ],
 "metadata": {
  "accelerator": "GPU",
  "colab": {
   "gpuType": "T4",
   "provenance": []
  },
  "kernelspec": {
   "display_name": "Python 3 (ipykernel)",
   "language": "python",
   "name": "python3"
  },
  "language_info": {
   "codemirror_mode": {
    "name": "ipython",
    "version": 3
   },
   "file_extension": ".py",
   "mimetype": "text/x-python",
   "name": "python",
   "nbconvert_exporter": "python",
   "pygments_lexer": "ipython3",
   "version": "3.11.11"
  }
 },
 "nbformat": 4,
 "nbformat_minor": 4
}
