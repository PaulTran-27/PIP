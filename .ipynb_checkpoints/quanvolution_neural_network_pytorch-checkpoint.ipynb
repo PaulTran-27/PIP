{
 "cells": [
  {
   "cell_type": "code",
   "execution_count": 1,
   "metadata": {
    "colab": {
     "base_uri": "https://localhost:8080/"
    },
    "id": "Rz3x2_QCv9w1",
    "outputId": "9d9a5b9a-4af3-4cb5-d239-5d27e54b5709"
   },
   "outputs": [
    {
     "name": "stdout",
     "output_type": "stream",
     "text": [
      "Wed Jan  1 11:20:05 2025       \n",
      "+---------------------------------------------------------------------------------------+\n",
      "| NVIDIA-SMI 535.216.01             Driver Version: 535.98       CUDA Version: 12.2     |\n",
      "|-----------------------------------------+----------------------+----------------------+\n",
      "| GPU  Name                 Persistence-M | Bus-Id        Disp.A | Volatile Uncorr. ECC |\n",
      "| Fan  Temp   Perf          Pwr:Usage/Cap |         Memory-Usage | GPU-Util  Compute M. |\n",
      "|                                         |                      |               MIG M. |\n",
      "|=========================================+======================+======================|\n",
      "|   0  NVIDIA GeForce RTX 3070 ...    On  | 00000000:01:00.0 Off |                  N/A |\n",
      "| N/A   48C    P8              16W / 140W |    647MiB /  8192MiB |      0%      Default |\n",
      "|                                         |                      |                  N/A |\n",
      "+-----------------------------------------+----------------------+----------------------+\n",
      "                                                                                         \n",
      "+---------------------------------------------------------------------------------------+\n",
      "| Processes:                                                                            |\n",
      "|  GPU   GI   CI        PID   Type   Process name                            GPU Memory |\n",
      "|        ID   ID                                                             Usage      |\n",
      "|=======================================================================================|\n",
      "|  No running processes found                                                           |\n",
      "+---------------------------------------------------------------------------------------+\n"
     ]
    }
   ],
   "source": [
    "!nvidia-smi"
   ]
  },
  {
   "cell_type": "code",
   "execution_count": 2,
   "metadata": {
    "id": "AxGKV_rmaA1r"
   },
   "outputs": [],
   "source": [
    "import pennylane as qml\n",
    "\n",
    "\n",
    "from pennylane import numpy as np\n",
    "from pennylane.templates import RandomLayers\n",
    "import torch\n",
    "\n",
    "import matplotlib.pyplot as plt"
   ]
  },
  {
   "cell_type": "markdown",
   "metadata": {
    "id": "rOn2BmCeaA1s"
   },
   "source": [
    "# Setting of the main hyper-parameters of the model\n"
   ]
  },
  {
   "cell_type": "code",
   "execution_count": 3,
   "metadata": {
    "id": "QM9Kthb_aA1s"
   },
   "outputs": [
    {
     "data": {
      "text/plain": [
       "<torch._C.Generator at 0x7fd479c2de70>"
      ]
     },
     "execution_count": 3,
     "metadata": {},
     "output_type": "execute_result"
    }
   ],
   "source": [
    "n_epochs = 30   # Number of optimization epochs\n",
    "n_layers = 5    # Number of random layers\n",
    "n_train = 50    # Size of the train dataset\n",
    "n_test = 50     # Size of the test dataset\n",
    "\n",
    "SAVE_PATH = \"/content/\"  # Data saving folder\n",
    "PREPROCESS = True           # If False, skip quantum processing and load data from SAVE_PATH\n",
    "np.random.seed(0)           # Seed for NumPy random number generator\n",
    "torch.manual_seed(0)       # Seed for TensorFlow random number generator"
   ]
  },
  {
   "cell_type": "markdown",
   "metadata": {
    "id": "RYzVqB7MaA1s"
   },
   "source": [
    "# Loading of the MNIST dataset\n"
   ]
  },
  {
   "cell_type": "code",
   "execution_count": 4,
   "metadata": {
    "id": "DV2aff2CaA1s"
   },
   "outputs": [],
   "source": [
    "import torchvision\n",
    "def transform(x):\n",
    "    x = np.array(x)\n",
    "    x = x/255.0\n",
    "    \n",
    "    return torch.from_numpy(x).float()\n",
    "train_set = torchvision.datasets.MNIST(root='./mnist', train=True, download=True, transform=transform)\n",
    "test_set = torchvision.datasets.MNIST(root='./mnist', train=False, download=True, transform=transform)\n",
    "\n",
    "train_loader = torch.utils.data.DataLoader(dataset=train_set, batch_size=1)\n"
   ]
  },
  {
   "cell_type": "markdown",
   "metadata": {
    "id": "JN6m4GKRaA1s"
   },
   "source": [
    "# Quantum circuit as a convolution kernel\n",
    "\n",
    "We follow the scheme described in the introduction and represented in\n",
    "the figure at the top of this demo.\n",
    "\n",
    "We initialize a PennyLane `default.qubit` device, simulating a system of\n",
    "$4$ qubits. The associated `qnode` represents the quantum circuit\n",
    "consisting of:\n",
    "\n",
    "1.  an embedding layer of local $R_y$ rotations (with angles scaled by a\n",
    "    factor of $\\pi$);\n",
    "2.  a random circuit of `n_layers`;\n",
    "3.  a final measurement in the computational basis, estimating $4$\n",
    "    expectation values.\n"
   ]
  },
  {
   "cell_type": "code",
   "execution_count": 5,
   "metadata": {
    "colab": {
     "base_uri": "https://localhost:8080/",
     "height": 1000
    },
    "id": "clOjblH7aA1s",
    "outputId": "2edd97c9-b482-4e7f-e343-06d59b986322"
   },
   "outputs": [
    {
     "name": "stdout",
     "output_type": "stream",
     "text": [
      "[[5.30467815 5.3906313  5.32343968 3.91796626]\n",
      " [2.4151415  1.86946507 0.35633815 1.71315002]\n",
      " [3.00125845 5.10300662 3.01578552 2.46793966]\n",
      " [5.2532378  2.1199226  4.07258398 2.31372983]\n",
      " [6.01398323 0.88184996 5.46691948 2.97576711]]\n",
      "0: ──RY(3.14)───RZ(3.92)──RY(1.87)──RY(0.36)──RZ(3.02)──────────────╭X───────────╭X──RX(2.12)\n",
      "1: ──RY(6.28)───RX(2.42)─────────────────────╭X────────╭●──RZ(5.10)─│────────────│───────────\n",
      "2: ──RY(9.42)───RZ(5.30)──RY(5.39)──RX(5.32)─╰●────────╰X──RY(3.00)─╰●──RZ(2.47)─╰●──RZ(2.31)\n",
      "3: ──RY(12.57)──RZ(1.71)──RZ(5.25)──RY(4.07)──RX(0.88)───────────────────────────────────────\n",
      "\n",
      "──╭X────────────────────────────┤  <Z>\n",
      "──╰●────────────────────────────┤  <Z>\n",
      "───RY(6.01)──RZ(5.47)──RX(2.98)─┤  <Z>\n",
      "────────────────────────────────┤  <Z>\n"
     ]
    },
    {
     "name": "stderr",
     "output_type": "stream",
     "text": [
      "/home/paultran27/miniconda3/envs/pnl/lib/python3.11/site-packages/pennylane/math/utils.py:228: UserWarning: Contains tensors of types {'torch', 'autograd'}; dispatch will prioritize TensorFlow, PyTorch, and Jax over Autograd. Consider replacing Autograd with vanilla NumPy.\n",
      "  warnings.warn(\n"
     ]
    }
   ],
   "source": [
    "dev1 = qml.device(\"lightning.qubit\", wires = 4)\n",
    "dev2 = qml.device(\"default.qubit\", wires = 4)\n",
    "# Random circuit parameters\n",
    "rand_params = np.random.uniform(high=2 * np.pi, size=(n_layers, 4))\n",
    "\n",
    "print(rand_params)\n",
    "@qml.qnode(dev1, interface='torch', diff_method='adjoint')\n",
    "def circuit1(phi):\n",
    "    # Encoding of 4 classical input values\n",
    "    for j in range(4):\n",
    "        qml.RY(np.pi * phi[j], wires=j)\n",
    "\n",
    "    # Random quantum circuit\n",
    "    RandomLayers(rand_params, wires=list(range(4)), seed = None)\n",
    "\n",
    "\n",
    "    # Measurement producing 4 classical output values\n",
    "    return [qml.expval(qml.PauliZ(j)) for j in range(4)]\n",
    "\n",
    "\n",
    "print(qml.draw(circuit1, level=None, )(torch.tensor([1,2,3,4]).cuda()))\n"
   ]
  },
  {
   "cell_type": "code",
   "execution_count": null,
   "metadata": {},
   "outputs": [],
   "source": []
  },
  {
   "cell_type": "code",
   "execution_count": 6,
   "metadata": {
    "colab": {
     "base_uri": "https://localhost:8080/",
     "height": 553
    },
    "id": "Tr1vbdXw2-tS",
    "outputId": "3f3b2195-2fb8-4060-f020-d08ffbd04ddb",
    "scrolled": true
   },
   "outputs": [],
   "source": [
    "import pennylane as qml\n",
    "from pennylane import numpy as np\n",
    "import torch\n",
    "import torch.nn as nn\n",
    "\n",
    "\n",
    "class QuanvolutionLayer(nn.Module):\n",
    "    def __init__(self, kernel_size=(2, 2), n_filters=1, filter_layers = 1):\n",
    "        super().__init__()\n",
    "        self.kernel_size = kernel_size\n",
    "        self.n_filters = n_filters\n",
    "        self.num_wires = kernel_size[0] * kernel_size[1]\n",
    "        self.filter_layer_size = np.random.randint(4, self.num_wires**2)\n",
    "        print(self.filter_layer_size)\n",
    "        # Quantum device for each filter\n",
    "        self.filter_seeds = []\n",
    "        self.q_params = nn.Parameter(torch.randn(n_filters , filter_layers*self.filter_layer_size))\n",
    "        # # Create filters (quantum circuits) dynamically\n",
    "        print(self.q_params)\n",
    "        self.n_qubits = filter_layers*self.filter_layer_size\n",
    "        for i in range(n_filters):\n",
    "            filt_seed = np.random.randint(1e10)\n",
    "            self.filter_seeds.append(filt_seed)\n",
    "            # self.filters.append(self.create_filter(dev, i, self.weights, filt_seed))\n",
    "\n",
    "        \"\"\"Create a quantum filter.\"\"\"\n",
    "        \n",
    "        \n",
    "        \n",
    "    def forward(self, x):\n",
    "        \"\"\"\n",
    "        Args:\n",
    "            x (torch.Tensor): Input tensor of shape (batch_size, channels, height, width)\n",
    "\n",
    "        Returns:\n",
    "            torch.Tensor: Output tensor of shape (batch_size, n_filters, new_height, new_width)\n",
    "        \"\"\"\n",
    "        batch_size, channels, height, width = x.shape\n",
    "        kernel_h, kernel_w = self.kernel_size\n",
    "        new_height = height // kernel_h\n",
    "        new_width = width // kernel_w\n",
    "        # print(new_height, new_width)\n",
    "        # Prepare output tensor\n",
    "        output = torch.zeros((batch_size, self.n_filters, new_height, new_width), dtype=torch.float32)\n",
    "        dev = qml.device(\"lightning.qubit\", wires=self.num_wires)\n",
    "        @qml.qnode(dev,interface='torch', diff_method='parameter-shift')\n",
    "        def circuit(inputs, weights, seed = None):\n",
    "            # Encoding classical inputs\n",
    "            for j in range(self.num_wires):\n",
    "                qml.RY(np.pi * inputs[j], wires=j)\n",
    "        \n",
    "            # Add random quantum layers\n",
    "            RandomLayers(weights, \n",
    "                         wires=list(range(self.num_wires)),\n",
    "                         # rotations=[qml.PauliX,qml.PauliY,qml.PauliZ],\n",
    "                         seed = seed)\n",
    "                         \n",
    "        \n",
    "            # Measurement producing classical outputs\n",
    "            return [qml.expval(qml.PauliZ(j)) for j in range(self.num_wires)]\n",
    "        for b in range(batch_size):\n",
    "            for i in range(0, height, kernel_h):\n",
    "                for j in range(0, width, kernel_w):\n",
    "                    if i + kernel_h <= height and j + kernel_w <= width:\n",
    "                        kernel = x[b, :, i:i + kernel_h, j:j + kernel_w].flatten()\n",
    "                        kernel = kernel[:self.num_wires]  # Adjust to fit the number of qubits\n",
    "                        kernel = kernel / torch.max(torch.abs(kernel) + 1e-5)  # Normalize\n",
    "                        q_out = torch.Tensor(1,self.n_filters)\n",
    "\n",
    "                        for id in range(self.n_filters):\n",
    "                            quantum_output = torch.sum(torch.hstack(\n",
    "                                circuit(inputs = kernel, weights = self.q_params, seed = self.filter_seeds[id]))\n",
    "                            ).float()\n",
    "                            # quantum_output.backward()\n",
    "                            # print(self.q_params.grad)\n",
    "                            # print(q_out)\n",
    "                            # qml.draw_mpl(circuit, level=None)(inputs = kernel, weights = self.q_params, seed = self.filter_seeds[id])\n",
    "                            q_out[:,id] = quantum_output\n",
    "                            # print(q_out)\n",
    "                            # break\n",
    "                        # break\n",
    "                        # Place results in the correct location in the output tensor\n",
    "                        # print(q_out)\n",
    "                        output[b, :, i // kernel_h, j // kernel_w] = q_out\n",
    "                        # print(output)\n",
    "\n",
    "        return output\n",
    "\n",
    "\n",
    "# Example Neural Network with Quanvolutional Layer\n",
    "class QuanvolutionalCNN(nn.Module):\n",
    "    def __init__(self, input_size = None):\n",
    "        super().__init__()\n",
    "        if input_size:\n",
    "            self.input_size = input_size\n",
    "        else:\n",
    "            self.input_size = None\n",
    "        self.quanv = QuanvolutionLayer(kernel_size=(3, 3), n_filters=3)\n",
    "        if self.input_size:\n",
    "            flattened_size = self._get_flattened_size(self.input_size)\n",
    "        else:\n",
    "            flattened_size = None\n",
    "        self.fc = nn.Sequential(\n",
    "            nn.Linear(flattened_size, 32),  # Adjust based on quanv output shape\n",
    "            nn.ReLU(),\n",
    "            nn.Linear(32, 10)   # 10 classes for classification\n",
    "        )\n",
    "        self.softmax = nn.Softmax(dim=1)\n",
    "    def forward(self, x):\n",
    "        x = self.quanv(x)\n",
    "        # print(x)\n",
    "        x = x.view(x.size(0), -1)  # Flatten\n",
    "        # print(x.size())\n",
    "        # print(x)\n",
    "        x = self.fc(x)\n",
    "        # print(x.size())\n",
    "        # print(x)\n",
    "        x = self.softmax(x)\n",
    "        \n",
    "        return x\n",
    "    def _get_flattened_size(self, input_size):\n",
    "        \"\"\"Helper function to calculate the flattened output size.\"\"\"\n",
    "        with torch.no_grad():\n",
    "            dummy_input = torch.zeros(*input_size)\n",
    "            dummy_output = self.quanv(dummy_input)\n",
    "            return dummy_output.numel()  # Flattened size\n",
    "\n",
    "# Example Usage\n",
    "# if __name__ == \"__main__\":\n",
    "# Example batch of grayscale images (batch_size=1, channels=1, height=4, width=4)\n",
    "images = torch.rand((1, 1, 28, 28)).cuda()\n",
    "\n"
   ]
  },
  {
   "cell_type": "code",
   "execution_count": 7,
   "metadata": {
    "scrolled": true
   },
   "outputs": [
    {
     "name": "stdout",
     "output_type": "stream",
     "text": [
      "5\n",
      "Parameter containing:\n",
      "tensor([[ 0.4106, -1.8387,  0.8823,  3.2554,  0.3486],\n",
      "        [-1.1887, -0.8736,  0.3410,  0.1190, -0.6359],\n",
      "        [ 2.7483,  0.1967, -0.1204, -0.5016,  1.2717]], requires_grad=True)\n",
      "Model output: torch.Size([1, 10])\n",
      "Parameter containing:\n",
      "tensor([[ 0.4106, -1.8387,  0.8823,  3.2554,  0.3486],\n",
      "        [-1.1887, -0.8736,  0.3410,  0.1190, -0.6359],\n",
      "        [ 2.7483,  0.1967, -0.1204, -0.5016,  1.2717]], requires_grad=True)\n"
     ]
    }
   ],
   "source": [
    "model = torch.nn.Sequential(\n",
    "        QuanvolutionLayer(kernel_size=(2, 2), n_filters=3),\n",
    "        torch.nn.Flatten(),\n",
    "        torch.nn.Linear(in_features=588, out_features=10)\n",
    "    )\n",
    "outputs = model(images)\n",
    "print(\"Model output:\",  outputs.size())\n",
    "print(model._modules['0'].q_params)"
   ]
  },
  {
   "cell_type": "code",
   "execution_count": null,
   "metadata": {
    "id": "tYPANui-4jFo",
    "scrolled": true
   },
   "outputs": [
    {
     "name": "stdout",
     "output_type": "stream",
     "text": [
      "127\n",
      "Parameter containing:\n",
      "tensor([[ 3.9921e-01, -9.4398e-02, -1.6491e+00, -1.2659e+00,  5.8570e-01,\n",
      "          3.6995e-01,  2.7365e-02, -4.5470e-01, -1.0222e+00,  6.5160e-01,\n",
      "          4.8812e-01,  2.1108e-01,  9.8568e-01, -1.5240e+00,  1.9284e-01,\n",
      "          4.8057e-01, -5.1378e-01,  2.7490e-01,  4.0500e-01, -1.2834e+00,\n",
      "          6.1029e-01,  1.0667e+00, -6.3631e-01,  6.9611e-01, -1.1584e+00,\n",
      "          4.5506e-01,  2.6529e-01, -1.2665e+00,  5.7416e-01,  9.9947e-01,\n",
      "         -7.8173e-01,  9.4084e-01, -1.4604e+00,  4.5449e-02, -3.6634e-01,\n",
      "         -1.8474e+00, -8.6366e-01,  2.3030e+00, -1.4115e+00,  7.9368e-01,\n",
      "         -2.0786e-01, -4.6536e-02,  5.2910e-01,  1.2307e+00,  4.0365e-01,\n",
      "         -1.6624e+00, -1.9855e-01,  1.4494e+00, -1.0185e+00, -1.4306e-01,\n",
      "         -1.6589e+00,  1.0086e+00, -1.5832e+00, -2.9890e-02, -2.7531e-01,\n",
      "          1.4081e-01,  6.7883e-01, -1.3754e-01,  4.6991e-02, -7.6990e-01,\n",
      "         -2.1998e+00,  3.7839e-01, -1.8275e-01,  8.3613e-01, -1.5864e+00,\n",
      "          1.1503e+00,  3.2023e-01, -1.4062e+00,  5.5841e-01, -1.1949e+00,\n",
      "         -4.3660e-01,  3.5733e-01,  6.4087e-03,  8.6999e-01, -1.2910e+00,\n",
      "         -9.3720e-01,  1.6940e-01,  3.4640e-01, -4.1799e-01,  7.6286e-02,\n",
      "         -1.9599e+00,  1.8973e-01,  1.0230e+00, -2.5978e-01,  1.6343e+00,\n",
      "          3.8538e-01,  1.8879e-01, -2.1100e-01,  1.0020e+00, -2.0043e+00,\n",
      "          3.2237e-01, -2.0650e+00,  6.5212e-01,  1.1480e+00, -1.6855e+00,\n",
      "          6.9619e-02,  8.6216e-01,  7.9570e-01, -8.9070e-01, -1.2603e+00,\n",
      "         -1.1186e+00, -1.0524e+00,  5.3493e-01, -4.2938e-01,  5.5360e-01,\n",
      "          1.1499e+00, -7.0794e-01, -1.1902e+00,  6.2830e-01, -1.8378e+00,\n",
      "          8.4582e-01,  1.4380e+00,  2.9945e-01, -1.7826e+00, -1.3609e-01,\n",
      "          4.0835e-01,  7.7692e-01, -2.0800e+00,  1.1222e+00, -6.8814e-01,\n",
      "          4.1280e-01,  5.5992e-01,  6.4414e-01,  1.1864e+00, -2.1669e+00,\n",
      "          8.7276e-01,  7.9123e-01],\n",
      "        [ 4.8241e-01, -1.8713e+00,  1.7102e+00, -1.7001e+00,  1.4469e+00,\n",
      "         -8.4081e-01, -1.5388e+00, -3.9038e-01, -3.1732e-01,  2.1182e-02,\n",
      "          1.5509e-01,  4.7339e-01,  1.7124e+00, -6.5296e-01, -7.7651e-02,\n",
      "          1.8128e-01,  1.5814e+00,  8.8493e-02,  1.6709e+00,  2.3377e+00,\n",
      "          3.5339e-01, -3.4397e-01,  1.2510e+00, -1.5274e+00,  8.9883e-01,\n",
      "          9.9730e-02,  4.4313e-01,  1.2175e+00,  9.0303e-01,  8.8718e-01,\n",
      "          3.3621e-01,  1.9972e-01, -7.8363e-01,  7.3127e-01,  7.5005e-01,\n",
      "          1.7334e+00, -3.1632e-01, -6.1627e-01, -8.7748e-01, -5.2839e-01,\n",
      "         -2.4796e-02, -5.9436e-01,  1.9108e-01,  6.6129e-02,  3.8718e+00,\n",
      "          2.7416e-01,  1.1442e+00, -1.7596e+00,  4.8751e-01,  5.3759e-01,\n",
      "         -1.8663e+00, -5.2836e-01, -7.0912e-01, -1.0190e+00,  1.2472e-01,\n",
      "          3.5186e-01,  1.1965e+00, -2.9381e-01,  9.3261e-01,  8.7482e-01,\n",
      "          1.6135e+00,  8.9880e-01, -1.8110e+00, -7.9454e-01, -1.2909e-01,\n",
      "         -2.7794e-01, -4.3182e-01, -1.9094e-01, -8.1158e-01, -1.2539e+00,\n",
      "         -1.4227e+00,  1.0448e+00,  5.1651e-02,  6.0471e-01, -9.4935e-01,\n",
      "          7.7283e-01,  3.0625e-01, -5.5991e-01, -1.7426e+00, -4.7928e-01,\n",
      "          7.3142e-01, -2.8842e-01, -2.6020e-01,  9.2896e-02,  8.8759e-02,\n",
      "          9.5966e-01, -6.5164e-01, -1.1145e+00, -1.5019e+00,  6.3022e-01,\n",
      "         -1.5556e+00, -2.4183e+00,  2.4441e-02, -1.2252e+00, -4.5054e-01,\n",
      "          6.3340e-01, -1.0039e+00,  4.4162e-02, -1.3382e-01,  1.1204e+00,\n",
      "          1.4007e+00,  5.2710e-02,  1.8611e+00, -2.6361e-01, -1.1324e-01,\n",
      "         -4.6052e-02, -2.2119e-01, -7.9467e-01,  6.9128e-01,  7.2723e-01,\n",
      "          8.8268e-01, -1.6424e+00,  4.5874e-01, -7.7646e-01, -7.1388e-01,\n",
      "         -1.4914e-01, -7.9347e-02, -8.7388e-01,  2.0346e+00,  8.7614e-01,\n",
      "          1.1425e+00, -9.9286e-01,  1.8306e+00, -5.9336e-01, -8.0996e-02,\n",
      "          9.0067e-03,  1.5980e-01],\n",
      "        [-5.4526e-01, -5.3013e-01, -1.0560e-01, -7.3349e-01, -3.3499e-01,\n",
      "         -1.2397e+00,  3.6415e-01,  7.8494e-01,  1.4803e+00,  2.0457e-01,\n",
      "         -1.3416e+00,  1.8954e-01,  3.1974e-02,  3.9733e-01, -1.5657e+00,\n",
      "          1.4406e+00,  5.5661e-01, -1.5033e-02, -5.6605e-01, -8.6292e-01,\n",
      "          1.5235e+00, -7.0282e-01, -6.3194e-01, -1.5353e+00, -7.6354e-03,\n",
      "          7.7861e-01,  6.9006e-01,  8.0318e-01, -6.0995e-01,  1.3591e+00,\n",
      "          8.7519e-01,  1.1278e+00,  1.4435e+00, -1.5606e-01,  2.0930e+00,\n",
      "          5.2840e-01,  1.4397e+00, -7.9422e-02, -4.5044e-01, -2.8203e-01,\n",
      "         -1.2662e+00, -8.6710e-01,  2.2657e+00,  1.0633e+00, -2.6827e-01,\n",
      "          4.8543e-01,  5.1112e-01, -9.2372e-01,  3.4652e-01, -1.1617e-01,\n",
      "         -3.8281e-02, -1.2049e+00,  3.2322e-01, -2.3508e+00,  9.9417e-01,\n",
      "         -7.3281e-01, -7.0442e-01,  7.2703e-01, -7.1095e-01,  6.0691e-01,\n",
      "         -8.0545e-01,  4.9150e-02, -1.3639e+00, -9.5632e-01, -1.5224e+00,\n",
      "         -1.7312e-01, -9.9337e-01,  8.7149e-01, -1.2102e+00,  1.8604e-01,\n",
      "          1.5160e+00,  1.0153e+00, -4.9464e-01,  7.5308e-02, -2.5491e+00,\n",
      "         -4.1942e-01,  1.3945e-01,  3.9304e-01, -3.4110e-01, -4.0333e-01,\n",
      "          9.8347e-01,  1.7683e+00,  8.0918e-01,  1.7218e+00, -3.0403e-01,\n",
      "          1.4462e-01,  2.2951e+00,  8.9115e-01, -1.5753e+00, -4.2313e-01,\n",
      "          2.4798e-03,  1.3140e+00,  8.7279e-01, -7.1332e-01, -1.0661e+00,\n",
      "          9.9664e-02, -8.8763e-01, -4.2687e-02, -9.6928e-01,  6.8773e-01,\n",
      "         -8.9277e-02, -3.1023e-01,  7.6475e-01,  7.9942e-01, -1.6294e+00,\n",
      "         -3.4350e-01,  4.1880e-01, -4.2026e-02,  1.8372e-01, -8.5951e-01,\n",
      "         -2.2478e-02, -1.9556e+00,  1.0629e+00,  1.3329e+00, -5.1621e-01,\n",
      "          9.6315e-01,  7.1135e-02,  1.0635e+00,  2.8727e-01, -1.9613e+00,\n",
      "         -1.7051e+00, -4.1625e-01, -1.4149e+00,  5.4132e-01, -7.2734e-02,\n",
      "          9.7833e-01, -1.7496e+00]], requires_grad=True)\n",
      "torch.Size([1, 1, 28, 28]) torch.Size([1, 1, 1, 28, 28])\n",
      "Before update: None\n"
     ]
    },
    {
     "name": "stderr",
     "output_type": "stream",
     "text": [
      "Exception ignored in: <bound method IPythonKernel._clean_thread_parent_frames of <ipykernel.ipkernel.IPythonKernel object at 0x7f9322e3b550>>\n",
      "Traceback (most recent call last):\n",
      "  File \"/home/paultran27/miniconda3/envs/pnl/lib/python3.11/site-packages/ipykernel/ipkernel.py\", line 775, in _clean_thread_parent_frames\n",
      "    def _clean_thread_parent_frames(\n",
      "\n",
      "KeyboardInterrupt: \n"
     ]
    }
   ],
   "source": [
    "model = QuanvolutionalCNN((1,1,28,28))\n",
    "optimizer = torch.optim.Adam(model.parameters(), lr=0.01)\n",
    "criterion = nn.CrossEntropyLoss()\n",
    "\n",
    "losses = np.array([])\n",
    "accs = np.array([])\n",
    "for epoch in range(1):\n",
    "    for images, labels in train_loader:\n",
    "        \n",
    "        images = images.unsqueeze(0).cuda()\n",
    "        print(images.size(), images.unsqueeze(0).size())\n",
    "        optimizer.zero_grad()  # Reset gradients\n",
    "        outputs = model(images)  # Forward pass\n",
    "        # print(outputs, labels)\n",
    "        loss = criterion(outputs, labels)  \n",
    "        loss.backward()\n",
    "        optimizer.step()\n",
    "        \n",
    "        \n",
    "        losses = np.append(losses, loss.item())\n",
    "\n",
    "        print(\"After update:\", model.quanv.q_params.grad)\n",
    "        # print(f\"Epoch {epoch + 1}, Loss: {loss.item()}\")\n"
   ]
  },
  {
   "cell_type": "code",
   "execution_count": null,
   "metadata": {
    "id": "o8wHpxJTaA1s"
   },
   "outputs": [],
   "source": [
    "def quanv(image):\n",
    "    \"\"\"Convolves the input image with many applications of the same quantum circuit.\"\"\"\n",
    "    out = np.zeros((14, 14, 4))\n",
    "\n",
    "    # Loop over the coordinates of the top-left pixel of 2X2 squares\n",
    "    for i in range(4):\n",
    "      cir = circuit1\n",
    "      for j in range(0, 28, 2):\n",
    "          for k in range(0, 28, 2):\n",
    "              # Process a squared 2x2 region of the image with a quantum circuit\n",
    "              print(j, k )\n",
    "              q_results = cir(\n",
    "                  [\n",
    "                      image[j, k, 0],\n",
    "                      image[j, k + 1, 0],\n",
    "                      image[j + 1, k, 0],\n",
    "                      image[j + 1, k + 1, 0]\n",
    "                  ]\n",
    "              )\n",
    "              # Assign expectation values to different channels of the output pixel (j/2, k/2)\n",
    "\n",
    "                  # out[j // 2, k // 2, c] = q_results[c]\n",
    "              for c in range(4):\n",
    "                out[j // 2, k // 2, i] += q_results[c]\n",
    "              # out[j // 2, k // 2, i] /= 4\n",
    "    return out"
   ]
  },
  {
   "cell_type": "markdown",
   "metadata": {
    "id": "6cZggmpEaA1t"
   },
   "source": [
    "# Quantum pre-processing of the dataset\n",
    "\n",
    "Since we are not going to train the quantum convolution layer, it is\n",
    "more efficient to apply it as a \\\"pre-processing\\\" layer to all the\n",
    "images of our dataset. Later an entirely classical model will be\n",
    "directly trained and tested on the pre-processed dataset, avoiding\n",
    "unnecessary repetitions of quantum computations.\n",
    "\n",
    "The pre-processed images will be saved in the folder `SAVE_PATH`. Once\n",
    "saved, they can be directly loaded by setting `PREPROCESS = False`,\n",
    "otherwise the quantum convolution is evaluated at each run of the code.\n",
    "\n"
   ]
  },
  {
   "cell_type": "code",
   "execution_count": 98,
   "metadata": {},
   "outputs": [],
   "source": [
    "import os\n",
    "os.environ[\"OMP_NUM_THREADS\"] = \"16\"  # Replace 4 with your desired number of threads\n"
   ]
  },
  {
   "cell_type": "code",
   "execution_count": 99,
   "metadata": {
    "colab": {
     "base_uri": "https://localhost:8080/"
    },
    "id": "jaRybkXJaA1t",
    "outputId": "65a8734c-e048-4095-bbbf-f3225d6a3732"
   },
   "outputs": [
    {
     "name": "stdout",
     "output_type": "stream",
     "text": [
      "Quantum pre-processing of train images:\n",
      "torch.Size([1, 28, 28])\n",
      "1/50"
     ]
    },
    {
     "ename": "NameError",
     "evalue": "name 'quanv' is not defined",
     "output_type": "error",
     "traceback": [
      "\u001b[0;31m---------------------------------------------------------------------------\u001b[0m",
      "\u001b[0;31mNameError\u001b[0m                                 Traceback (most recent call last)",
      "Cell \u001b[0;32mIn[99], line 7\u001b[0m\n\u001b[1;32m      5\u001b[0m     \u001b[38;5;28mprint\u001b[39m(img\u001b[38;5;241m.\u001b[39msize())\n\u001b[1;32m      6\u001b[0m     \u001b[38;5;28mprint\u001b[39m(\u001b[38;5;124m\"\u001b[39m\u001b[38;5;130;01m\\r\u001b[39;00m\u001b[38;5;132;01m{}\u001b[39;00m\u001b[38;5;124m/\u001b[39m\u001b[38;5;132;01m{}\u001b[39;00m\u001b[38;5;124m\"\u001b[39m\u001b[38;5;241m.\u001b[39mformat(idx \u001b[38;5;241m+\u001b[39m \u001b[38;5;241m1\u001b[39m, n_train), end \u001b[38;5;241m=\u001b[39m \u001b[38;5;124m'\u001b[39m\u001b[38;5;124m'\u001b[39m)\n\u001b[0;32m----> 7\u001b[0m     q_train_images\u001b[38;5;241m.\u001b[39mappend(\u001b[43mquanv\u001b[49m(img))\n\u001b[1;32m      8\u001b[0m q_train_images \u001b[38;5;241m=\u001b[39m np\u001b[38;5;241m.\u001b[39masarray(q_train_images)\n\u001b[1;32m     10\u001b[0m q_test_images \u001b[38;5;241m=\u001b[39m []\n",
      "\u001b[0;31mNameError\u001b[0m: name 'quanv' is not defined"
     ]
    }
   ],
   "source": [
    "if PREPROCESS == True:\n",
    "    q_train_images = []\n",
    "    print(\"Quantum pre-processing of train images:\")\n",
    "    for idx, (img, _) in enumerate(train_loader):\n",
    "        print(img.size())\n",
    "        print(\"\\r{}/{}\".format(idx + 1, n_train), end = '')\n",
    "        q_train_images.append(quanv(img))\n",
    "    q_train_images = np.asarray(q_train_images)\n",
    "\n",
    "    q_test_images = []\n",
    "    print(\"\\nQuantum pre-processing of test images:\")\n",
    "    for idx, img in enumerate(test_images):\n",
    "        print(\"\\r{}/{}\".format(idx + 1, n_test), end = '')\n",
    "        q_test_images.append(quanv(img))\n",
    "    q_test_images = np.asarray(q_test_images)\n",
    "\n",
    "    # # Save pre-processed images\n",
    "    # np.save(SAVE_PATH + \"q_train_images.npy\", q_train_images)\n",
    "    # np.save(SAVE_PATH + \"q_test_images.npy\", q_test_images)\n",
    "\n",
    "\n",
    "# # Load pre-processed images\n",
    "# q_train_images = np.load(SAVE_PATH + \"q_train_images.npy\")\n",
    "# q_test_images = np.load(SAVE_PATH + \"q_test_images.npy\")"
   ]
  },
  {
   "cell_type": "markdown",
   "metadata": {
    "id": "_8dPOWNLaA1t"
   },
   "source": [
    "Let us visualize the effect of the quantum convolution layer on a batch\n",
    "of samples:\n"
   ]
  },
  {
   "cell_type": "code",
   "execution_count": 5,
   "metadata": {
    "colab": {
     "base_uri": "https://localhost:8080/",
     "height": 1000
    },
    "id": "gY8_SQD-aA1t",
    "outputId": "4412bcc4-e21e-44e1-fe11-0ea1cc475c37"
   },
   "outputs": [
    {
     "ename": "NameError",
     "evalue": "name 'q_train_images' is not defined",
     "output_type": "error",
     "traceback": [
      "\u001b[0;31m---------------------------------------------------------------------------\u001b[0m",
      "\u001b[0;31mNameError\u001b[0m                                 Traceback (most recent call last)",
      "Cell \u001b[0;32mIn[5], line 15\u001b[0m\n\u001b[1;32m     13\u001b[0m         \u001b[38;5;28;01mif\u001b[39;00m k \u001b[38;5;241m!=\u001b[39m \u001b[38;5;241m0\u001b[39m:\n\u001b[1;32m     14\u001b[0m             axes[c, k]\u001b[38;5;241m.\u001b[39myaxis\u001b[38;5;241m.\u001b[39mset_visible(\u001b[38;5;28;01mFalse\u001b[39;00m)\n\u001b[0;32m---> 15\u001b[0m         axes[c \u001b[38;5;241m+\u001b[39m \u001b[38;5;241m1\u001b[39m, k]\u001b[38;5;241m.\u001b[39mimshow(\u001b[43mq_train_images\u001b[49m[k, :, :, c], cmap\u001b[38;5;241m=\u001b[39m\u001b[38;5;124m\"\u001b[39m\u001b[38;5;124mgray\u001b[39m\u001b[38;5;124m\"\u001b[39m)\n\u001b[1;32m     17\u001b[0m plt\u001b[38;5;241m.\u001b[39mtight_layout()\n\u001b[1;32m     18\u001b[0m plt\u001b[38;5;241m.\u001b[39mshow()\n",
      "\u001b[0;31mNameError\u001b[0m: name 'q_train_images' is not defined"
     ]
    },
    {
     "data": {
      "image/png": "[encoded data removed]",
      "text/plain": [
       "<Figure size 1000x1000 with 20 Axes>"
      ]
     },
     "metadata": {},
     "output_type": "display_data"
    }
   ],
   "source": [
    "n_samples = 4\n",
    "n_channels = 4\n",
    "fig, axes = plt.subplots(1 + n_channels, n_samples, figsize=(10, 10))\n",
    "for k in range(n_samples):\n",
    "    axes[0, 0].set_ylabel(\"Input\")\n",
    "    if k != 0:\n",
    "        axes[0, k].yaxis.set_visible(False)\n",
    "    axes[0, k].imshow(train_images[k, :, :, 0], cmap=\"gray\")\n",
    "\n",
    "    # Plot all output channels\n",
    "    for c in range(n_channels):\n",
    "        axes[c + 1, 0].set_ylabel(\"Output [ch. {}]\".format(c))\n",
    "        if k != 0:\n",
    "            axes[c, k].yaxis.set_visible(False)\n",
    "        axes[c + 1, k].imshow(q_train_images[k, :, :, c], cmap=\"gray\")\n",
    "\n",
    "plt.tight_layout()\n",
    "plt.show()"
   ]
  },
  {
   "cell_type": "markdown",
   "metadata": {
    "id": "My4UOwV4aA1t"
   },
   "source": [
    "Below each input image, the $4$ output channels generated by the quantum\n",
    "convolution are visualized in gray scale.\n",
    "\n",
    "One can clearly notice the downsampling of the resolution and some local\n",
    "distortion introduced by the quantum kernel. On the other hand the\n",
    "global shape of the image is preserved, as expected for a convolution\n",
    "layer.\n"
   ]
  },
  {
   "cell_type": "markdown",
   "metadata": {
    "id": "Iwnmo__naA1t"
   },
   "source": [
    "# Hybrid quantum-classical model\n",
    "\n",
    "After the application of the quantum convolution layer we feed the\n",
    "resulting features into a classical neural network that will be trained\n",
    "to classify the $10$ different digits of the MNIST dataset.\n",
    "\n",
    "We use a very simple model: just a fully connected layer with 10 output\n",
    "nodes with a final *softmax* activation function.\n",
    "\n",
    "The model is compiled with a *stochastic-gradient-descent* optimizer,\n",
    "and a *cross-entropy* loss function.\n"
   ]
  },
  {
   "cell_type": "code",
   "execution_count": 100,
   "metadata": {
    "colab": {
     "base_uri": "https://localhost:8080/"
    },
    "id": "Z01nBYO-JuYy",
    "outputId": "02d3def3-dfac-4685-d80c-f9fdb84a2a71"
   },
   "outputs": [
    {
     "ename": "NameError",
     "evalue": "name 'train_images' is not defined",
     "output_type": "error",
     "traceback": [
      "\u001b[0;31m---------------------------------------------------------------------------\u001b[0m",
      "\u001b[0;31mNameError\u001b[0m                                 Traceback (most recent call last)",
      "Cell \u001b[0;32mIn[100], line 1\u001b[0m\n\u001b[0;32m----> 1\u001b[0m \u001b[43mtrain_images\u001b[49m\u001b[38;5;241m.\u001b[39mshape\n",
      "\u001b[0;31mNameError\u001b[0m: name 'train_images' is not defined"
     ]
    }
   ],
   "source": [
    "train_images.shape"
   ]
  },
  {
   "cell_type": "code",
   "execution_count": 50,
   "metadata": {
    "id": "O8x_WUKRaA1t"
   },
   "outputs": [],
   "source": [
    "\n",
    "from tensorflow.keras import layers\n",
    "from tensorflow.keras.datasets import mnist\n",
    "\n",
    "def ClassicModel():\n",
    "    \"\"\"Initializes and returns a custom Keras CNN model ready to be trained on MNIST.\"\"\"\n",
    "    model = keras.models.Sequential([\n",
    "        # First Convolutional layer\n",
    "        layers.Conv2D(32, (3, 3), activation=\"relu\", input_shape=(28, 28, 1)),\n",
    "        layers.MaxPooling2D(pool_size=(2, 2)),\n",
    "\n",
    "        layers.Flatten(),\n",
    "        layers.Dense(64, activation=\"relu\"),\n",
    "        layers.Dense(10, activation=\"softmax\")\n",
    "    ])\n",
    "\n",
    "    model.compile(\n",
    "        optimizer=\"adam\",\n",
    "        loss=\"sparse_categorical_crossentropy\",\n",
    "        metrics=[\"accuracy\"]\n",
    "    )\n",
    "    return model\n",
    "\n",
    "def QuanvModel():\n",
    "    \"\"\"Initializes and returns a custom Keras CNN model ready to be trained on MNIST.\"\"\"\n",
    "    model = keras.models.Sequential([\n",
    "        # First Convolutional layer\n",
    "        layers.Conv2D(32, (3, 3), activation=\"relu\", input_shape=(14, 14, 4)),\n",
    "        layers.MaxPooling2D(pool_size=(2, 2)),\n",
    "\n",
    "        layers.Flatten(),\n",
    "        layers.Dense(64, activation=\"relu\"),\n",
    "        layers.Dense(10, activation=\"softmax\")\n",
    "    ])\n",
    "\n",
    "    model.compile(\n",
    "        optimizer=\"adam\",\n",
    "        loss=\"sparse_categorical_crossentropy\",\n",
    "        metrics=[\"accuracy\"]\n",
    "    )\n",
    "    return model\n",
    "\n"
   ]
  },
  {
   "cell_type": "markdown",
   "metadata": {
    "id": "GNsWe0LCaA1t"
   },
   "source": [
    "# Training\n",
    "\n",
    "We first initialize an instance of the model, then we train and validate\n",
    "it with the dataset that has been already pre-processed by a quantum\n",
    "convolution.\n"
   ]
  },
  {
   "cell_type": "code",
   "execution_count": 51,
   "metadata": {
    "colab": {
     "base_uri": "https://localhost:8080/"
    },
    "id": "rCG20prHaA1t",
    "outputId": "074e2282-a05c-4e2c-eaf9-7108bee608a1"
   },
   "outputs": [
    {
     "name": "stdout",
     "output_type": "stream",
     "text": [
      "Epoch 1/30\n"
     ]
    },
    {
     "name": "stderr",
     "output_type": "stream",
     "text": [
      "/usr/local/lib/python3.10/dist-packages/keras/src/layers/convolutional/base_conv.py:107: UserWarning: Do not pass an `input_shape`/`input_dim` argument to a layer. When using Sequential models, prefer using an `Input(shape)` object as the first layer in the model instead.\n",
      "  super().__init__(activity_regularizer=activity_regularizer, **kwargs)\n"
     ]
    },
    {
     "name": "stdout",
     "output_type": "stream",
     "text": [
      "2/2 - 3s - 1s/step - accuracy: 0.0000e+00 - loss: 2.8372 - val_accuracy: 0.0000e+00 - val_loss: 2.7045\n",
      "Epoch 2/30\n",
      "2/2 - 0s - 30ms/step - accuracy: 0.8000 - loss: 1.2979 - val_accuracy: 0.0000e+00 - val_loss: 3.3358\n",
      "Epoch 3/30\n",
      "2/2 - 0s - 24ms/step - accuracy: 0.6000 - loss: 0.9884 - val_accuracy: 0.0000e+00 - val_loss: 3.7362\n",
      "Epoch 4/30\n",
      "2/2 - 0s - 27ms/step - accuracy: 0.6000 - loss: 0.8411 - val_accuracy: 0.0000e+00 - val_loss: 3.6965\n",
      "Epoch 5/30\n",
      "2/2 - 0s - 36ms/step - accuracy: 1.0000 - loss: 0.5623 - val_accuracy: 0.0000e+00 - val_loss: 3.4626\n",
      "Epoch 6/30\n",
      "2/2 - 0s - 24ms/step - accuracy: 1.0000 - loss: 0.3246 - val_accuracy: 0.0000e+00 - val_loss: 3.2518\n",
      "Epoch 7/30\n",
      "2/2 - 0s - 29ms/step - accuracy: 1.0000 - loss: 0.1819 - val_accuracy: 0.2000 - val_loss: 3.1162\n",
      "Epoch 8/30\n",
      "2/2 - 0s - 34ms/step - accuracy: 1.0000 - loss: 0.0998 - val_accuracy: 0.4000 - val_loss: 3.0552\n",
      "Epoch 9/30\n",
      "2/2 - 0s - 22ms/step - accuracy: 1.0000 - loss: 0.0574 - val_accuracy: 0.4000 - val_loss: 3.0533\n",
      "Epoch 10/30\n",
      "2/2 - 0s - 23ms/step - accuracy: 1.0000 - loss: 0.0342 - val_accuracy: 0.4000 - val_loss: 3.0877\n",
      "Epoch 11/30\n",
      "2/2 - 0s - 124ms/step - accuracy: 1.0000 - loss: 0.0222 - val_accuracy: 0.4000 - val_loss: 3.1399\n",
      "Epoch 12/30\n",
      "2/2 - 0s - 64ms/step - accuracy: 1.0000 - loss: 0.0155 - val_accuracy: 0.4000 - val_loss: 3.2002\n",
      "Epoch 13/30\n",
      "2/2 - 0s - 30ms/step - accuracy: 1.0000 - loss: 0.0115 - val_accuracy: 0.4000 - val_loss: 3.2622\n",
      "Epoch 14/30\n",
      "2/2 - 0s - 67ms/step - accuracy: 1.0000 - loss: 0.0090 - val_accuracy: 0.4000 - val_loss: 3.3211\n",
      "Epoch 15/30\n",
      "2/2 - 0s - 21ms/step - accuracy: 1.0000 - loss: 0.0073 - val_accuracy: 0.4000 - val_loss: 3.3716\n",
      "Epoch 16/30\n",
      "2/2 - 0s - 29ms/step - accuracy: 1.0000 - loss: 0.0061 - val_accuracy: 0.4000 - val_loss: 3.4180\n",
      "Epoch 17/30\n",
      "2/2 - 0s - 21ms/step - accuracy: 1.0000 - loss: 0.0053 - val_accuracy: 0.4000 - val_loss: 3.4608\n",
      "Epoch 18/30\n",
      "2/2 - 0s - 28ms/step - accuracy: 1.0000 - loss: 0.0046 - val_accuracy: 0.4000 - val_loss: 3.4989\n",
      "Epoch 19/30\n",
      "2/2 - 0s - 22ms/step - accuracy: 1.0000 - loss: 0.0041 - val_accuracy: 0.4000 - val_loss: 3.5327\n",
      "Epoch 20/30\n",
      "2/2 - 0s - 22ms/step - accuracy: 1.0000 - loss: 0.0036 - val_accuracy: 0.4000 - val_loss: 3.5370\n",
      "Epoch 21/30\n",
      "2/2 - 0s - 29ms/step - accuracy: 1.0000 - loss: 0.0031 - val_accuracy: 0.4000 - val_loss: 3.5452\n",
      "Epoch 22/30\n",
      "2/2 - 0s - 28ms/step - accuracy: 1.0000 - loss: 0.0027 - val_accuracy: 0.6000 - val_loss: 3.5639\n",
      "Epoch 23/30\n",
      "2/2 - 0s - 22ms/step - accuracy: 1.0000 - loss: 0.0025 - val_accuracy: 0.6000 - val_loss: 3.5867\n",
      "Epoch 24/30\n",
      "2/2 - 0s - 36ms/step - accuracy: 1.0000 - loss: 0.0023 - val_accuracy: 0.6000 - val_loss: 3.6065\n",
      "Epoch 25/30\n",
      "2/2 - 0s - 21ms/step - accuracy: 1.0000 - loss: 0.0021 - val_accuracy: 0.6000 - val_loss: 3.6218\n",
      "Epoch 26/30\n",
      "2/2 - 0s - 21ms/step - accuracy: 1.0000 - loss: 0.0020 - val_accuracy: 0.6000 - val_loss: 3.6352\n",
      "Epoch 27/30\n",
      "2/2 - 0s - 40ms/step - accuracy: 1.0000 - loss: 0.0018 - val_accuracy: 0.6000 - val_loss: 3.6512\n",
      "Epoch 28/30\n",
      "2/2 - 0s - 35ms/step - accuracy: 1.0000 - loss: 0.0017 - val_accuracy: 0.6000 - val_loss: 3.6659\n",
      "Epoch 29/30\n",
      "2/2 - 0s - 57ms/step - accuracy: 1.0000 - loss: 0.0017 - val_accuracy: 0.6000 - val_loss: 3.6793\n",
      "Epoch 30/30\n",
      "2/2 - 0s - 30ms/step - accuracy: 1.0000 - loss: 0.0016 - val_accuracy: 0.6000 - val_loss: 3.6917\n"
     ]
    }
   ],
   "source": [
    "q_model = QuanvModel()\n",
    "\n",
    "q_history = q_model.fit(\n",
    "    q_train_images,\n",
    "    train_labels,\n",
    "    validation_data=(q_test_images, test_labels),\n",
    "    batch_size=4,\n",
    "    epochs=n_epochs,\n",
    "    verbose=2,\n",
    ")"
   ]
  },
  {
   "cell_type": "markdown",
   "metadata": {
    "id": "lFVunUOYaA1t"
   },
   "source": [
    "In order to compare the results achievable with and without the quantum\n",
    "convolution layer, we initialize also a \\\"classical\\\" instance of the\n",
    "model that will be directly trained and validated with the raw MNIST\n",
    "images (i.e., without quantum pre-processing).\n"
   ]
  },
  {
   "cell_type": "code",
   "execution_count": 45,
   "metadata": {
    "colab": {
     "base_uri": "https://localhost:8080/"
    },
    "id": "dtpqzry8aA1t",
    "outputId": "b5c7823b-5d99-4c73-a1a7-4de0f88e281a"
   },
   "outputs": [
    {
     "name": "stdout",
     "output_type": "stream",
     "text": [
      "Epoch 1/30\n",
      "2/2 - 5s - 2s/step - accuracy: 0.0000e+00 - loss: 2.3735 - val_accuracy: 0.4000 - val_loss: 2.1891\n",
      "Epoch 2/30\n",
      "2/2 - 0s - 23ms/step - accuracy: 1.0000 - loss: 1.8873 - val_accuracy: 0.4000 - val_loss: 2.1258\n",
      "Epoch 3/30\n",
      "2/2 - 0s - 21ms/step - accuracy: 1.0000 - loss: 1.5827 - val_accuracy: 0.4000 - val_loss: 2.0856\n",
      "Epoch 4/30\n",
      "2/2 - 0s - 21ms/step - accuracy: 1.0000 - loss: 1.2649 - val_accuracy: 0.4000 - val_loss: 2.0636\n",
      "Epoch 5/30\n",
      "2/2 - 0s - 21ms/step - accuracy: 1.0000 - loss: 0.9371 - val_accuracy: 0.4000 - val_loss: 2.0659\n",
      "Epoch 6/30\n",
      "2/2 - 0s - 22ms/step - accuracy: 1.0000 - loss: 0.6406 - val_accuracy: 0.4000 - val_loss: 2.0890\n",
      "Epoch 7/30\n",
      "2/2 - 0s - 37ms/step - accuracy: 1.0000 - loss: 0.4030 - val_accuracy: 0.4000 - val_loss: 2.1315\n",
      "Epoch 8/30\n",
      "2/2 - 0s - 22ms/step - accuracy: 1.0000 - loss: 0.2404 - val_accuracy: 0.4000 - val_loss: 2.1862\n",
      "Epoch 9/30\n",
      "2/2 - 0s - 21ms/step - accuracy: 1.0000 - loss: 0.1377 - val_accuracy: 0.4000 - val_loss: 2.2471\n",
      "Epoch 10/30\n",
      "2/2 - 0s - 21ms/step - accuracy: 1.0000 - loss: 0.0782 - val_accuracy: 0.4000 - val_loss: 2.3200\n",
      "Epoch 11/30\n",
      "2/2 - 0s - 29ms/step - accuracy: 1.0000 - loss: 0.0448 - val_accuracy: 0.4000 - val_loss: 2.3899\n",
      "Epoch 12/30\n",
      "2/2 - 0s - 22ms/step - accuracy: 1.0000 - loss: 0.0267 - val_accuracy: 0.4000 - val_loss: 2.4500\n",
      "Epoch 13/30\n",
      "2/2 - 0s - 23ms/step - accuracy: 1.0000 - loss: 0.0165 - val_accuracy: 0.4000 - val_loss: 2.5093\n",
      "Epoch 14/30\n",
      "2/2 - 0s - 29ms/step - accuracy: 1.0000 - loss: 0.0108 - val_accuracy: 0.4000 - val_loss: 2.5706\n",
      "Epoch 15/30\n",
      "2/2 - 0s - 31ms/step - accuracy: 1.0000 - loss: 0.0073 - val_accuracy: 0.4000 - val_loss: 2.6314\n",
      "Epoch 16/30\n",
      "2/2 - 0s - 60ms/step - accuracy: 1.0000 - loss: 0.0052 - val_accuracy: 0.4000 - val_loss: 2.6875\n",
      "Epoch 17/30\n",
      "2/2 - 0s - 21ms/step - accuracy: 1.0000 - loss: 0.0038 - val_accuracy: 0.4000 - val_loss: 2.7379\n",
      "Epoch 18/30\n",
      "2/2 - 0s - 32ms/step - accuracy: 1.0000 - loss: 0.0029 - val_accuracy: 0.4000 - val_loss: 2.7828\n",
      "Epoch 19/30\n",
      "2/2 - 0s - 22ms/step - accuracy: 1.0000 - loss: 0.0023 - val_accuracy: 0.4000 - val_loss: 2.8222\n",
      "Epoch 20/30\n",
      "2/2 - 0s - 27ms/step - accuracy: 1.0000 - loss: 0.0019 - val_accuracy: 0.4000 - val_loss: 2.8577\n",
      "Epoch 21/30\n",
      "2/2 - 0s - 29ms/step - accuracy: 1.0000 - loss: 0.0016 - val_accuracy: 0.4000 - val_loss: 2.8892\n",
      "Epoch 22/30\n",
      "2/2 - 0s - 30ms/step - accuracy: 1.0000 - loss: 0.0014 - val_accuracy: 0.6000 - val_loss: 2.9169\n",
      "Epoch 23/30\n",
      "2/2 - 0s - 27ms/step - accuracy: 1.0000 - loss: 0.0012 - val_accuracy: 0.6000 - val_loss: 2.9413\n",
      "Epoch 24/30\n",
      "2/2 - 0s - 34ms/step - accuracy: 1.0000 - loss: 0.0011 - val_accuracy: 0.6000 - val_loss: 2.9627\n",
      "Epoch 25/30\n",
      "2/2 - 0s - 65ms/step - accuracy: 1.0000 - loss: 9.8962e-04 - val_accuracy: 0.6000 - val_loss: 2.9814\n",
      "Epoch 26/30\n",
      "2/2 - 0s - 30ms/step - accuracy: 1.0000 - loss: 9.1211e-04 - val_accuracy: 0.6000 - val_loss: 2.9979\n",
      "Epoch 27/30\n",
      "2/2 - 0s - 22ms/step - accuracy: 1.0000 - loss: 8.4997e-04 - val_accuracy: 0.6000 - val_loss: 3.0123\n",
      "Epoch 28/30\n",
      "2/2 - 0s - 21ms/step - accuracy: 1.0000 - loss: 7.9933e-04 - val_accuracy: 0.6000 - val_loss: 3.0250\n",
      "Epoch 29/30\n",
      "2/2 - 0s - 21ms/step - accuracy: 1.0000 - loss: 7.5733e-04 - val_accuracy: 0.6000 - val_loss: 3.0363\n",
      "Epoch 30/30\n",
      "2/2 - 0s - 21ms/step - accuracy: 1.0000 - loss: 7.2216e-04 - val_accuracy: 0.6000 - val_loss: 3.0462\n"
     ]
    }
   ],
   "source": [
    "c_model = ClassicModel()\n",
    "\n",
    "c_history = c_model.fit(\n",
    "    train_images,\n",
    "    train_labels,\n",
    "    validation_data=(test_images, test_labels),\n",
    "    batch_size=4,\n",
    "    epochs=n_epochs,\n",
    "    verbose=2,\n",
    ")"
   ]
  },
  {
   "cell_type": "markdown",
   "metadata": {
    "id": "SpT3ghaIaA1t"
   },
   "source": [
    "# Results\n",
    "\n",
    "We can finally plot the test accuracy and the test loss with respect to\n",
    "the number of training epochs.\n"
   ]
  },
  {
   "cell_type": "code",
   "execution_count": 25,
   "metadata": {
    "colab": {
     "base_uri": "https://localhost:8080/",
     "height": 906
    },
    "id": "jHRpWQ_laA1t",
    "outputId": "ce45dc3d-fc3e-4874-b6dc-d07886ac0805"
   },
   "outputs": [
    {
     "data": {
      "image/png": "[encoded data removed]",
      "text/plain": [
       "<Figure size 600x900 with 2 Axes>"
      ]
     },
     "metadata": {},
     "output_type": "display_data"
    }
   ],
   "source": [
    "import matplotlib.pyplot as plt\n",
    "\n",
    "# plt.style.use(\"seaborn\")\n",
    "fig, (ax1, ax2) = plt.subplots(2, 1, figsize=(6, 9))\n",
    "\n",
    "ax1.plot(q_history.history[\"val_accuracy\"], \"-ob\", label=\"With quantum layer\")\n",
    "ax1.plot(c_history.history[\"val_accuracy\"], \"-og\", label=\"Without quantum layer\")\n",
    "ax1.set_ylabel(\"Accuracy\")\n",
    "ax1.set_ylim([0, 1])\n",
    "ax1.set_xlabel(\"Epoch\")\n",
    "ax1.legend()\n",
    "\n",
    "ax2.plot(q_history.history[\"val_loss\"], \"-ob\", label=\"With quantum layer\")\n",
    "ax2.plot(c_history.history[\"val_loss\"], \"-og\", label=\"Without quantum layer\")\n",
    "ax2.set_ylabel(\"Loss\")\n",
    "ax2.set_ylim(top=2.5)\n",
    "ax2.set_xlabel(\"Epoch\")\n",
    "ax2.legend()\n",
    "plt.tight_layout()\n",
    "plt.show()"
   ]
  },
  {
   "cell_type": "markdown",
   "metadata": {
    "id": "xrc2evb2aA1t"
   },
   "source": [
    "# References\n",
    "\n",
    "1.  Maxwell Henderson, Samriddhi Shakya, Shashindra Pradhan, Tristan\n",
    "    Cook. \\\"Quanvolutional Neural Networks: Powering Image Recognition\n",
    "    with Quantum Circuits.\\\"\n",
    "    [arXiv:1904.04767](https://arxiv.org/abs/1904.04767), 2019.\n",
    "\n",
    "# About the author\n"
   ]
  }
 ],
 "metadata": {
  "accelerator": "GPU",
  "colab": {
   "gpuType": "T4",
   "provenance": []
  },
  "kernelspec": {
   "display_name": "Python 3 (ipykernel)",
   "language": "python",
   "name": "python3"
  },
  "language_info": {
   "codemirror_mode": {
    "name": "ipython",
    "version": 3
   },
   "file_extension": ".py",
   "mimetype": "text/x-python",
   "name": "python",
   "nbconvert_exporter": "python",
   "pygments_lexer": "ipython3",
   "version": "3.11.11"
  }
 },
 "nbformat": 4,
 "nbformat_minor": 4
}
